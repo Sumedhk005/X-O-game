{
  "nbformat": 4,
  "nbformat_minor": 0,
  "metadata": {
    "colab": {
      "provenance": [],
      "authorship_tag": "ABX9TyNY5vQBwXF511ypJFu4An3j",
      "include_colab_link": true
    },
    "kernelspec": {
      "name": "python3",
      "display_name": "Python 3"
    },
    "language_info": {
      "name": "python"
    }
  },
  "cells": [
    {
      "cell_type": "markdown",
      "metadata": {
        "id": "view-in-github",
        "colab_type": "text"
      },
      "source": [
        "<a href=\"https://colab.research.google.com/github/Sumedhk005/X-O-game/blob/main/X%7CO_game.ipynb\" target=\"_parent\"><img src=\"https://colab.research.google.com/assets/colab-badge.svg\" alt=\"Open In Colab\"/></a>"
      ]
    },
    {
      "cell_type": "code",
      "execution_count": null,
      "metadata": {
        "id": "quaY6aPzYP5C"
      },
      "outputs": [],
      "source": [
        "def Constboard(board):\n",
        "  print(\"Current State of the Board: \\n\\n\");\n",
        "  for i in range(0 ,9):\n",
        "    if((i>0) and (i%3==0)):\n",
        "      print(\"\\n\");\n",
        "    if(board[i]==0):\n",
        "      print(\"_ \", end=\" \");\n",
        "    if(board[i]==-1):\n",
        "      print(\"X \", end=\" \");\n",
        "    if(board[i]==1):\n",
        "      print(\"O \", end=\" \");\n",
        "  print(\"\\n\\n\");\n",
        "\n",
        "def User1Turn(board):\n",
        "  pos = input(\"Enter X's position from [1,2,3....,9]\");\n",
        "  pos = int(pos);\n",
        "  if(board[pos-1]!=0):\n",
        "    print(\"Wrong MOVE!!\");\n",
        "    exit(0);\n",
        "  board[pos-1]=-1;\n",
        "\n",
        "def User2Turn(board):\n",
        "  pos = input(\"Enter O's position from [1,2,3....,9]\");\n",
        "  pos = int(pos);\n",
        "  if(board[pos-1]!=0):\n",
        "    print(\"Wrong MOVE!!\");\n",
        "    exit(0);\n",
        "  board[pos-1]=1;\n",
        "\n",
        "def minmax(board, player):\n",
        "  x = analyzeboard(board);\n",
        "  if(x!=0):\n",
        "    return(x*player);\n",
        "  pos = -1;\n",
        "  value = -2;\n",
        "  for i in range(0,9):\n",
        "    if(board[i]==0):\n",
        "      board[i]=player;\n",
        "      score=-minmax(board, player*-1);\n",
        "      board[i] = 0;\n",
        "      if(score>value):\n",
        "        value=score;\n",
        "        pos=i;\n",
        "  if(pos==-1):\n",
        "    return 0;\n",
        "  return value;\n",
        "\n",
        "def CompTurn(board):\n",
        "  pos = -1;\n",
        "  value = -2;\n",
        "  for i in range(0,9):\n",
        "    if(board[i]==0):\n",
        "      board[i]=1;\n",
        "      score=-minmax(board, -1);\n",
        "      board[i] = 0;\n",
        "      if(score>value):\n",
        "        value=score;\n",
        "        pos=i;\n",
        "  board[pos]=1;\n",
        "\n",
        "\n",
        "def analyzeboard(board):\n",
        "  cb = [[0,1,2], [3,4,5], [6,7,8], [0,3,6], [1,4,7], [2,5,8], [0,4,8], [2,4,6]]\n",
        "\n",
        "  for i in range(0,8):\n",
        "    if(board[cb[i][0]]!=0 and\n",
        "      board[cb[i][0]]==board[cb[i][1]] and\n",
        "      board[cb[i][0]]==board[cb[i][2]]):\n",
        "      return board[cb[i][0]];\n",
        "\n",
        "  return 0;\n",
        "\n",
        "def main():\n",
        "  choice = input(\"Enter 1 for Single Player, 2 for Multiplayer:\");\n",
        "  choice = int(choice);\n",
        "  board = [0 ,0 ,0 ,0 ,0 ,0 ,0 ,0 ,0]\n",
        "  if(choice==1):\n",
        "    print(\"Computer:O Vs. You:X\");\n",
        "    player = input(\"Enter to play 1(st) or 2(nd): \");\n",
        "    player = int(player);\n",
        "    for i in range(0 ,9):\n",
        "      if(analyzeboard(board)!=0):\n",
        "        break;\n",
        "      if((i+player)%2==0):\n",
        "        CompTurn(board);\n",
        "      else:\n",
        "        Constboard(board);\n",
        "        User1Turn(board);\n",
        "  else:\n",
        "    for i in range(0 ,9):\n",
        "      if(analyzeboard(board)!=0):\n",
        "        break;\n",
        "      if(i%2==0):\n",
        "        Constboard(board);\n",
        "        User1Turn(board);\n",
        "      else:\n",
        "        Constboard(board);\n",
        "        User2Turn(board);\n",
        "\n",
        "  x = analyzeboard(board);\n",
        "  if(x==0):\n",
        "    Constboard(board)\n",
        "    print(\"Draw\");\n",
        "  if(x==-1):\n",
        "    Constboard(board)\n",
        "    print(\"Player X WIN!!! O Lossess!!!\");\n",
        "  if(x==1):\n",
        "    Constboard(board)\n",
        "    print(\"Player O WIN!!! X Lossess!!!\");"
      ]
    },
    {
      "cell_type": "code",
      "source": [
        "main()"
      ],
      "metadata": {
        "colab": {
          "base_uri": "https://localhost:8080/"
        },
        "id": "-ZMAJiS2wsJC",
        "outputId": "8f61c8db-333e-4a35-b887-6b7b6c6c6b8d"
      },
      "execution_count": null,
      "outputs": [
        {
          "output_type": "stream",
          "name": "stdout",
          "text": [
            "Enter 1 for Single Player, 2 for Multiplayer:2\n",
            "Current State of the Board: \n",
            "\n",
            "\n",
            "_  _  _  \n",
            "\n",
            "_  _  _  \n",
            "\n",
            "_  _  _  \n",
            "\n",
            "\n",
            "Enter X's position from [1,2,3....,9]1\n",
            "Current State of the Board: \n",
            "\n",
            "\n",
            "X  _  _  \n",
            "\n",
            "_  _  _  \n",
            "\n",
            "_  _  _  \n",
            "\n",
            "\n",
            "Enter O's position from [1,2,3....,9]4\n",
            "Current State of the Board: \n",
            "\n",
            "\n",
            "X  _  _  \n",
            "\n",
            "O  _  _  \n",
            "\n",
            "_  _  _  \n",
            "\n",
            "\n",
            "Enter X's position from [1,2,3....,9]2\n",
            "Current State of the Board: \n",
            "\n",
            "\n",
            "X  X  _  \n",
            "\n",
            "O  _  _  \n",
            "\n",
            "_  _  _  \n",
            "\n",
            "\n",
            "Enter O's position from [1,2,3....,9]5\n",
            "Current State of the Board: \n",
            "\n",
            "\n",
            "X  X  _  \n",
            "\n",
            "O  O  _  \n",
            "\n",
            "_  _  _  \n",
            "\n",
            "\n",
            "Enter X's position from [1,2,3....,9]3\n",
            "Current State of the Board: \n",
            "\n",
            "\n",
            "X  X  X  \n",
            "\n",
            "O  O  _  \n",
            "\n",
            "_  _  _  \n",
            "\n",
            "\n",
            "Player X WIN!!! O Lossess!!!\n"
          ]
        }
      ]
    },
    {
      "cell_type": "code",
      "source": [
        "main()"
      ],
      "metadata": {
        "colab": {
          "base_uri": "https://localhost:8080/"
        },
        "id": "8-h5mT7Nwy2q",
        "outputId": "aa18e9ff-18bf-401a-bf12-658f048886c2"
      },
      "execution_count": null,
      "outputs": [
        {
          "output_type": "stream",
          "name": "stdout",
          "text": [
            "Enter 1 for Single Player, 2 for Multiplayer:1\n",
            "Computer:O Vs. You:X\n",
            "Enter to play 1(st) or 2(nd): 1\n",
            "Current State of the Board: \n",
            "\n",
            "\n",
            "_  _  _  \n",
            "\n",
            "_  _  _  \n",
            "\n",
            "_  _  _  \n",
            "\n",
            "\n",
            "Enter X's position from [1,2,3....,9]1\n",
            "Current State of the Board: \n",
            "\n",
            "\n",
            "X  _  _  \n",
            "\n",
            "_  O  _  \n",
            "\n",
            "_  _  _  \n",
            "\n",
            "\n",
            "Enter X's position from [1,2,3....,9]2\n",
            "Current State of the Board: \n",
            "\n",
            "\n",
            "X  X  O  \n",
            "\n",
            "_  O  _  \n",
            "\n",
            "_  _  _  \n",
            "\n",
            "\n",
            "Enter X's position from [1,2,3....,9]4\n",
            "Current State of the Board: \n",
            "\n",
            "\n",
            "X  X  O  \n",
            "\n",
            "X  O  _  \n",
            "\n",
            "O  _  _  \n",
            "\n",
            "\n",
            "Player O WIN!!! X Lossess!!!\n"
          ]
        }
      ]
    },
    {
      "cell_type": "code",
      "source": [
        "main()"
      ],
      "metadata": {
        "colab": {
          "base_uri": "https://localhost:8080/"
        },
        "id": "v2jnZp_7xN4F",
        "outputId": "57086156-6f81-4773-c693-5c07ae34bc7f"
      },
      "execution_count": null,
      "outputs": [
        {
          "output_type": "stream",
          "name": "stdout",
          "text": [
            "Enter 1 for Single Player, 2 for Multiplayer:1\n",
            "Computer:O Vs. You:X\n",
            "Enter to play 1(st) or 2(nd): 1\n",
            "Current State of the Board: \n",
            "\n",
            "\n",
            "_  _  _  \n",
            "\n",
            "_  _  _  \n",
            "\n",
            "_  _  _  \n",
            "\n",
            "\n",
            "Enter X's position from [1,2,3....,9]9\n",
            "Current State of the Board: \n",
            "\n",
            "\n",
            "_  _  _  \n",
            "\n",
            "_  O  _  \n",
            "\n",
            "_  _  X  \n",
            "\n",
            "\n",
            "Enter X's position from [1,2,3....,9]4\n",
            "Current State of the Board: \n",
            "\n",
            "\n",
            "O  _  _  \n",
            "\n",
            "X  O  _  \n",
            "\n",
            "_  _  X  \n",
            "\n",
            "\n",
            "Enter X's position from [1,2,3....,9]8\n",
            "Current State of the Board: \n",
            "\n",
            "\n",
            "O  _  _  \n",
            "\n",
            "X  O  _  \n",
            "\n",
            "O  X  X  \n",
            "\n",
            "\n",
            "Enter X's position from [1,2,3....,9]3\n",
            "Current State of the Board: \n",
            "\n",
            "\n",
            "O  _  X  \n",
            "\n",
            "X  O  O  \n",
            "\n",
            "O  X  X  \n",
            "\n",
            "\n",
            "Enter X's position from [1,2,3....,9]2\n",
            "Current State of the Board: \n",
            "\n",
            "\n",
            "O  X  X  \n",
            "\n",
            "X  O  O  \n",
            "\n",
            "O  X  X  \n",
            "\n",
            "\n",
            "Draw\n"
          ]
        }
      ]
    },
    {
      "cell_type": "code",
      "source": [
        "main()"
      ],
      "metadata": {
        "colab": {
          "base_uri": "https://localhost:8080/",
          "height": 280
        },
        "id": "XAuvg-TXxo8w",
        "outputId": "cbfe569f-2c36-4418-8fd9-95e0dcf6ceac"
      },
      "execution_count": null,
      "outputs": [
        {
          "name": "stdout",
          "output_type": "stream",
          "text": [
            "Enter 1 for Single Player, 2 for Multiplayer:2\n"
          ]
        },
        {
          "output_type": "error",
          "ename": "UnboundLocalError",
          "evalue": "local variable 'player' referenced before assignment",
          "traceback": [
            "\u001b[0;31m---------------------------------------------------------------------------\u001b[0m",
            "\u001b[0;31mUnboundLocalError\u001b[0m                         Traceback (most recent call last)",
            "\u001b[0;32m<ipython-input-7-263240bbee7e>\u001b[0m in \u001b[0;36m<cell line: 1>\u001b[0;34m()\u001b[0m\n\u001b[0;32m----> 1\u001b[0;31m \u001b[0mmain\u001b[0m\u001b[0;34m(\u001b[0m\u001b[0;34m)\u001b[0m\u001b[0;34m\u001b[0m\u001b[0;34m\u001b[0m\u001b[0m\n\u001b[0m",
            "\u001b[0;32m<ipython-input-3-c3310dd523d0>\u001b[0m in \u001b[0;36mmain\u001b[0;34m()\u001b[0m\n\u001b[1;32m     92\u001b[0m       \u001b[0;32mif\u001b[0m\u001b[0;34m(\u001b[0m\u001b[0manalyzeboard\u001b[0m\u001b[0;34m(\u001b[0m\u001b[0mboard\u001b[0m\u001b[0;34m)\u001b[0m\u001b[0;34m!=\u001b[0m\u001b[0;36m0\u001b[0m\u001b[0;34m)\u001b[0m\u001b[0;34m:\u001b[0m\u001b[0;34m\u001b[0m\u001b[0;34m\u001b[0m\u001b[0m\n\u001b[1;32m     93\u001b[0m         \u001b[0;32mbreak\u001b[0m\u001b[0;34m;\u001b[0m\u001b[0;34m\u001b[0m\u001b[0;34m\u001b[0m\u001b[0m\n\u001b[0;32m---> 94\u001b[0;31m       \u001b[0;32mif\u001b[0m\u001b[0;34m(\u001b[0m\u001b[0;34m(\u001b[0m\u001b[0mi\u001b[0m\u001b[0;34m+\u001b[0m\u001b[0mplayer\u001b[0m\u001b[0;34m)\u001b[0m\u001b[0;34m%\u001b[0m\u001b[0;36m2\u001b[0m\u001b[0;34m==\u001b[0m\u001b[0;36m0\u001b[0m\u001b[0;34m)\u001b[0m\u001b[0;34m:\u001b[0m\u001b[0;34m\u001b[0m\u001b[0;34m\u001b[0m\u001b[0m\n\u001b[0m\u001b[1;32m     95\u001b[0m         \u001b[0mConstboard\u001b[0m\u001b[0;34m(\u001b[0m\u001b[0mboard\u001b[0m\u001b[0;34m)\u001b[0m\u001b[0;34m;\u001b[0m\u001b[0;34m\u001b[0m\u001b[0;34m\u001b[0m\u001b[0m\n\u001b[1;32m     96\u001b[0m         \u001b[0mUser1Turn\u001b[0m\u001b[0;34m(\u001b[0m\u001b[0mboard\u001b[0m\u001b[0;34m)\u001b[0m\u001b[0;34m;\u001b[0m\u001b[0;34m\u001b[0m\u001b[0;34m\u001b[0m\u001b[0m\n",
            "\u001b[0;31mUnboundLocalError\u001b[0m: local variable 'player' referenced before assignment"
          ]
        }
      ]
    },
    {
      "cell_type": "code",
      "source": [
        "main()"
      ],
      "metadata": {
        "colab": {
          "base_uri": "https://localhost:8080/",
          "height": 280
        },
        "id": "sFoeLXUYx7BU",
        "outputId": "0927d1fa-6ffa-4bee-c3b3-3b860e784a59"
      },
      "execution_count": null,
      "outputs": [
        {
          "name": "stdout",
          "output_type": "stream",
          "text": [
            "Enter 1 for Single Player, 2 for Multiplayer:2\n"
          ]
        },
        {
          "output_type": "error",
          "ename": "UnboundLocalError",
          "evalue": "local variable 'player' referenced before assignment",
          "traceback": [
            "\u001b[0;31m---------------------------------------------------------------------------\u001b[0m",
            "\u001b[0;31mUnboundLocalError\u001b[0m                         Traceback (most recent call last)",
            "\u001b[0;32m<ipython-input-8-263240bbee7e>\u001b[0m in \u001b[0;36m<cell line: 1>\u001b[0;34m()\u001b[0m\n\u001b[0;32m----> 1\u001b[0;31m \u001b[0mmain\u001b[0m\u001b[0;34m(\u001b[0m\u001b[0;34m)\u001b[0m\u001b[0;34m\u001b[0m\u001b[0;34m\u001b[0m\u001b[0m\n\u001b[0m",
            "\u001b[0;32m<ipython-input-3-c3310dd523d0>\u001b[0m in \u001b[0;36mmain\u001b[0;34m()\u001b[0m\n\u001b[1;32m     92\u001b[0m       \u001b[0;32mif\u001b[0m\u001b[0;34m(\u001b[0m\u001b[0manalyzeboard\u001b[0m\u001b[0;34m(\u001b[0m\u001b[0mboard\u001b[0m\u001b[0;34m)\u001b[0m\u001b[0;34m!=\u001b[0m\u001b[0;36m0\u001b[0m\u001b[0;34m)\u001b[0m\u001b[0;34m:\u001b[0m\u001b[0;34m\u001b[0m\u001b[0;34m\u001b[0m\u001b[0m\n\u001b[1;32m     93\u001b[0m         \u001b[0;32mbreak\u001b[0m\u001b[0;34m;\u001b[0m\u001b[0;34m\u001b[0m\u001b[0;34m\u001b[0m\u001b[0m\n\u001b[0;32m---> 94\u001b[0;31m       \u001b[0;32mif\u001b[0m\u001b[0;34m(\u001b[0m\u001b[0;34m(\u001b[0m\u001b[0mi\u001b[0m\u001b[0;34m+\u001b[0m\u001b[0mplayer\u001b[0m\u001b[0;34m)\u001b[0m\u001b[0;34m%\u001b[0m\u001b[0;36m2\u001b[0m\u001b[0;34m==\u001b[0m\u001b[0;36m0\u001b[0m\u001b[0;34m)\u001b[0m\u001b[0;34m:\u001b[0m\u001b[0;34m\u001b[0m\u001b[0;34m\u001b[0m\u001b[0m\n\u001b[0m\u001b[1;32m     95\u001b[0m         \u001b[0mConstboard\u001b[0m\u001b[0;34m(\u001b[0m\u001b[0mboard\u001b[0m\u001b[0;34m)\u001b[0m\u001b[0;34m;\u001b[0m\u001b[0;34m\u001b[0m\u001b[0;34m\u001b[0m\u001b[0m\n\u001b[1;32m     96\u001b[0m         \u001b[0mUser1Turn\u001b[0m\u001b[0;34m(\u001b[0m\u001b[0mboard\u001b[0m\u001b[0;34m)\u001b[0m\u001b[0;34m;\u001b[0m\u001b[0;34m\u001b[0m\u001b[0;34m\u001b[0m\u001b[0m\n",
            "\u001b[0;31mUnboundLocalError\u001b[0m: local variable 'player' referenced before assignment"
          ]
        }
      ]
    },
    {
      "cell_type": "code",
      "source": [
        "main()"
      ],
      "metadata": {
        "colab": {
          "base_uri": "https://localhost:8080/",
          "height": 280
        },
        "id": "d6V1-vItyvtY",
        "outputId": "8249c8d1-e9c8-4353-ffe8-e8f541a0a73f"
      },
      "execution_count": null,
      "outputs": [
        {
          "name": "stdout",
          "output_type": "stream",
          "text": [
            "Enter 1 for Single Player, 2 for Multiplayer:2\n"
          ]
        },
        {
          "output_type": "error",
          "ename": "UnboundLocalError",
          "evalue": "local variable 'player' referenced before assignment",
          "traceback": [
            "\u001b[0;31m---------------------------------------------------------------------------\u001b[0m",
            "\u001b[0;31mUnboundLocalError\u001b[0m                         Traceback (most recent call last)",
            "\u001b[0;32m<ipython-input-11-263240bbee7e>\u001b[0m in \u001b[0;36m<cell line: 1>\u001b[0;34m()\u001b[0m\n\u001b[0;32m----> 1\u001b[0;31m \u001b[0mmain\u001b[0m\u001b[0;34m(\u001b[0m\u001b[0;34m)\u001b[0m\u001b[0;34m\u001b[0m\u001b[0;34m\u001b[0m\u001b[0m\n\u001b[0m",
            "\u001b[0;32m<ipython-input-3-c3310dd523d0>\u001b[0m in \u001b[0;36mmain\u001b[0;34m()\u001b[0m\n\u001b[1;32m     92\u001b[0m       \u001b[0;32mif\u001b[0m\u001b[0;34m(\u001b[0m\u001b[0manalyzeboard\u001b[0m\u001b[0;34m(\u001b[0m\u001b[0mboard\u001b[0m\u001b[0;34m)\u001b[0m\u001b[0;34m!=\u001b[0m\u001b[0;36m0\u001b[0m\u001b[0;34m)\u001b[0m\u001b[0;34m:\u001b[0m\u001b[0;34m\u001b[0m\u001b[0;34m\u001b[0m\u001b[0m\n\u001b[1;32m     93\u001b[0m         \u001b[0;32mbreak\u001b[0m\u001b[0;34m;\u001b[0m\u001b[0;34m\u001b[0m\u001b[0;34m\u001b[0m\u001b[0m\n\u001b[0;32m---> 94\u001b[0;31m       \u001b[0;32mif\u001b[0m\u001b[0;34m(\u001b[0m\u001b[0;34m(\u001b[0m\u001b[0mi\u001b[0m\u001b[0;34m+\u001b[0m\u001b[0mplayer\u001b[0m\u001b[0;34m)\u001b[0m\u001b[0;34m%\u001b[0m\u001b[0;36m2\u001b[0m\u001b[0;34m==\u001b[0m\u001b[0;36m0\u001b[0m\u001b[0;34m)\u001b[0m\u001b[0;34m:\u001b[0m\u001b[0;34m\u001b[0m\u001b[0;34m\u001b[0m\u001b[0m\n\u001b[0m\u001b[1;32m     95\u001b[0m         \u001b[0mConstboard\u001b[0m\u001b[0;34m(\u001b[0m\u001b[0mboard\u001b[0m\u001b[0;34m)\u001b[0m\u001b[0;34m;\u001b[0m\u001b[0;34m\u001b[0m\u001b[0;34m\u001b[0m\u001b[0m\n\u001b[1;32m     96\u001b[0m         \u001b[0mUser1Turn\u001b[0m\u001b[0;34m(\u001b[0m\u001b[0mboard\u001b[0m\u001b[0;34m)\u001b[0m\u001b[0;34m;\u001b[0m\u001b[0;34m\u001b[0m\u001b[0;34m\u001b[0m\u001b[0m\n",
            "\u001b[0;31mUnboundLocalError\u001b[0m: local variable 'player' referenced before assignment"
          ]
        }
      ]
    },
    {
      "cell_type": "code",
      "source": [
        "main()"
      ],
      "metadata": {
        "id": "ZxCcFedKzbfV",
        "colab": {
          "base_uri": "https://localhost:8080/",
          "height": 280
        },
        "outputId": "733967fa-5283-4bbc-842c-27c579264826"
      },
      "execution_count": null,
      "outputs": [
        {
          "name": "stdout",
          "output_type": "stream",
          "text": [
            "Enter 1 for Single Player, 2 for Multiplayer:2\n"
          ]
        },
        {
          "output_type": "error",
          "ename": "UnboundLocalError",
          "evalue": "local variable 'player' referenced before assignment",
          "traceback": [
            "\u001b[0;31m---------------------------------------------------------------------------\u001b[0m",
            "\u001b[0;31mUnboundLocalError\u001b[0m                         Traceback (most recent call last)",
            "\u001b[0;32m<ipython-input-10-263240bbee7e>\u001b[0m in \u001b[0;36m<cell line: 1>\u001b[0;34m()\u001b[0m\n\u001b[0;32m----> 1\u001b[0;31m \u001b[0mmain\u001b[0m\u001b[0;34m(\u001b[0m\u001b[0;34m)\u001b[0m\u001b[0;34m\u001b[0m\u001b[0;34m\u001b[0m\u001b[0m\n\u001b[0m",
            "\u001b[0;32m<ipython-input-3-c3310dd523d0>\u001b[0m in \u001b[0;36mmain\u001b[0;34m()\u001b[0m\n\u001b[1;32m     92\u001b[0m       \u001b[0;32mif\u001b[0m\u001b[0;34m(\u001b[0m\u001b[0manalyzeboard\u001b[0m\u001b[0;34m(\u001b[0m\u001b[0mboard\u001b[0m\u001b[0;34m)\u001b[0m\u001b[0;34m!=\u001b[0m\u001b[0;36m0\u001b[0m\u001b[0;34m)\u001b[0m\u001b[0;34m:\u001b[0m\u001b[0;34m\u001b[0m\u001b[0;34m\u001b[0m\u001b[0m\n\u001b[1;32m     93\u001b[0m         \u001b[0;32mbreak\u001b[0m\u001b[0;34m;\u001b[0m\u001b[0;34m\u001b[0m\u001b[0;34m\u001b[0m\u001b[0m\n\u001b[0;32m---> 94\u001b[0;31m       \u001b[0;32mif\u001b[0m\u001b[0;34m(\u001b[0m\u001b[0;34m(\u001b[0m\u001b[0mi\u001b[0m\u001b[0;34m+\u001b[0m\u001b[0mplayer\u001b[0m\u001b[0;34m)\u001b[0m\u001b[0;34m%\u001b[0m\u001b[0;36m2\u001b[0m\u001b[0;34m==\u001b[0m\u001b[0;36m0\u001b[0m\u001b[0;34m)\u001b[0m\u001b[0;34m:\u001b[0m\u001b[0;34m\u001b[0m\u001b[0;34m\u001b[0m\u001b[0m\n\u001b[0m\u001b[1;32m     95\u001b[0m         \u001b[0mConstboard\u001b[0m\u001b[0;34m(\u001b[0m\u001b[0mboard\u001b[0m\u001b[0;34m)\u001b[0m\u001b[0;34m;\u001b[0m\u001b[0;34m\u001b[0m\u001b[0;34m\u001b[0m\u001b[0m\n\u001b[1;32m     96\u001b[0m         \u001b[0mUser1Turn\u001b[0m\u001b[0;34m(\u001b[0m\u001b[0mboard\u001b[0m\u001b[0;34m)\u001b[0m\u001b[0;34m;\u001b[0m\u001b[0;34m\u001b[0m\u001b[0;34m\u001b[0m\u001b[0m\n",
            "\u001b[0;31mUnboundLocalError\u001b[0m: local variable 'player' referenced before assignment"
          ]
        }
      ]
    },
    {
      "cell_type": "code",
      "source": [],
      "metadata": {
        "id": "BKEkrC2nz8b8"
      },
      "execution_count": null,
      "outputs": []
    }
  ]
}